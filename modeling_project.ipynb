{
 "cells": [
  {
   "cell_type": "markdown",
   "id": "2a3deb34",
   "metadata": {},
   "source": [
    "# Calculus and Modelling Explorer:\n",
    "\n",
    "This project demonstrates  and formalizes my understanding of the key calculus topics taught in MAS164. The topics explored in this project are:-\n",
    "- Limits and continuity\n",
    "- Differentiation and Turning points\n",
    "- Exponential and trigonometric modeling\n",
    "This project's aim is to try to demonstrate my understanding of MAS164 and getting overide to get into MAS162.\n"
   ]
  },
  {
   "cell_type": "markdown",
   "id": "42890599",
   "metadata": {},
   "source": [
    "#### Section 1: Limits and Continuity\n",
    "\n",
    "In this section, I will:\n",
    "- Define a rational function with a discontinuity\n",
    "- Use symbolic math to compute left-hand and right-hand limits\n",
    "- Plot the function to show a removable discontinuity"
   ]
  },
  {
   "cell_type": "code",
   "execution_count": null,
   "id": "f10b0729",
   "metadata": {},
   "outputs": [],
   "source": [
    "import numpy as np\n",
    "import matplotlib.pyplot as plt\n",
    "import sympy as sp\n",
    "\n",
    "sp.init_printing()"
   ]
  },
  {
   "cell_type": "code",
   "execution_count": null,
   "id": "4a8a94b7",
   "metadata": {},
   "outputs": [],
   "source": [
    "x = sp.Symbol('x') # lets assume x \n",
    "f_expr = (x**2 - 1) / (x - 1) # This makes it a  function\n",
    "\n",
    "# Simplify\n",
    "f_simplified = sp.simplify(f_expr)\n",
    "\n",
    "# Find left-hand and right-hand limits as x approaches 1\n",
    "left_limit = sp.limit(f_expr, x, 1, dir='-')\n",
    "right_limit = sp.limit(f_expr, x, 1, dir='+')\n",
    "\n",
    "# results\n",
    "display(sp.Eq(sp.Limit(f_expr, x, 1, dir='-'), left_limit))\n",
    "display(sp.Eq(sp.Limit(f_expr, x, 1, dir='+'), right_limit))\n",
    "print(\"Simplified form:\", f_simplified)"
   ]
  },
  {
   "cell_type": "code",
   "execution_count": null,
   "id": "0e5d11de",
   "metadata": {},
   "outputs": [],
   "source": [
    "\n",
    "def f(x):\n",
    "    return (x**2 - 1) / (x - 1)\n",
    "\n",
    "# This generates  values excluding x = 1\n",
    "x_vals = np.linspace(0.5, 1.5, 400)\n",
    "x_vals = x_vals[x_vals != 1.0]\n",
    "y_vals = f(x_vals)\n",
    "\n",
    "# Plotting\n",
    "plt.figure(figsize=(8, 5))\n",
    "plt.plot(x_vals, y_vals, label=r\"$f(x)=\\frac{x^2 - 1}{x - 1}$\")\n",
    "plt.plot(1, 2, 'ro', label=\"Removable Discontinuity at x=1\")\n",
    "plt.axvline(1, color='gray', linestyle='--', linewidth=1)\n",
    "\n",
    "plt.title(\"Function with a Removable Discontinuity\")\n",
    "plt.xlabel(\"x\")\n",
    "plt.ylabel(\"f(x)\")\n",
    "plt.grid(True)\n",
    "plt.legend()\n",
    "plt.show()"
   ]
  },
  {
   "cell_type": "markdown",
   "id": "93024dcb",
   "metadata": {},
   "source": [
    "##### What I learned from this:\n",
    "So this part helped understand limits better and it helped me connect algebra, limits, graphs all together with a real example.\n"
   ]
  },
  {
   "cell_type": "markdown",
   "id": "25ccaa65",
   "metadata": {},
   "source": [
    "### Find the first Derivative:\n"
   ]
  },
  {
   "cell_type": "code",
   "execution_count": null,
   "id": "058ad5b2",
   "metadata": {},
   "outputs": [],
   "source": [
    "# Let's assume our simplified function g(x) from Section 1 is x + 2.\n",
    "g_simplified = x + 2\n",
    "\n",
    "# --- Find the first derivative using sympy.diff() ---\n",
    "g_derivative = sympy.diff(g_simplified, x)\n",
    "\n",
    "# --- Display the derivative ---\n",
    "print(\"Original function, g(x):\")\n",
    "display(g_simplified)\n",
    "\n",
    "print(\"\\nFirst derivative, g'(x):\")\n",
    "display(g_derivative)"
   ]
  },
  {
   "cell_type": "markdown",
   "id": "5ffb6659",
   "metadata": {},
   "source": [
    "### Analysis of the first derivative:\n",
    "In this section i used the first derivative to find how function behaves like :\n",
    "- It represents the slope which is rate of change at any point.\n",
    "- Whenever the function is greater than zero it shows the function is uphill(increasing).\n",
    "- When its less than zero its decreasing which is downhill.\n",
    "- This helps me understand the concept of critical points which is where slope is zero(f{x}' = 0)\n",
    "- It also helps me understand the concept of maxima and minima which is done like if first derivative of a function moves from postive to negative is maxima and the opposite tells about the minima and then if we go further and do the second derivative test we find i the second derivative is greater than zero its minima(cup like) and if the second derivative is less than zero then its maxima (cap like).If it does not change its a plateau.\n",
    "\n",
    "\n"
   ]
  },
  {
   "cell_type": "markdown",
   "id": "2c7bab66",
   "metadata": {},
   "source": [
    "### Application Real World Example:\n"
   ]
  },
  {
   "cell_type": "code",
   "execution_count": null,
   "id": "fe07e9cb",
   "metadata": {},
   "outputs": [],
   "source": [
    "# Defining  symbols\n",
    "t = sympy.Symbol('t') # time in seconds\n",
    "\n",
    "#  using the standard function for the height of a projectile under constant acceleration due to gravity:\n",
    "# s(t) = -4.9t^2 + v_0*t + s_0\n",
    "# A ball thrown upwards at 30 m/s from an initial height of 2 meters.\n",
    "# g (gravity) ≈ 9.8 m/s^2, so g/2 = 4.9\n",
    "v0 = 30  # initial velocity\n",
    "s0 = 2   # initial height\n",
    "\n",
    "height_func = -4.9*t**2 + v0*t + s0\n",
    "\n",
    "print(\"Height function s(t):\")\n",
    "display(height_func)\n",
    "\n",
    "# First we find the derivative which gives us the velocity function.\n",
    "#The first derivative of position (height) with respect to time is velocity\n",
    "velocity_func = sympy.diff(height_func, t)\n",
    "\n",
    "print(\"Velocity function v(t) = s'(t):\")\n",
    "display(velocity_func)\n",
    "\n",
    "# Now we can find the time when the ball reaches its maximum height by setting the velocity to zero.\n",
    "# We solve v(t) = 0 for t\n",
    "time_at_max_height_expr = sympy.solve(velocity_func, t)\n",
    "\n",
    "# The result is a list, so we extract the first (and only) element\n",
    "time_at_max_height = time_at_max_height_expr[0]\n",
    "\n",
    "# --- Substitute this time back into the height function to find the max height ---\n",
    "max_height = height_func.subs(t, time_at_max_height)\n",
    "\n",
    "print(f\"The velocity is 0 at t = {time_at_max_height:.2f} seconds.\")\n",
    "print(f\"The maximum height reached is {max_height:.2f} meters.\")\n",
    "\n"
   ]
  },
  {
   "cell_type": "markdown",
   "id": "0f928a38",
   "metadata": {},
   "source": [
    "### Reflection:\n",
    "This acts as a real world scenario where derivative is used in which first derivative helps me in finding the velocity.Critical point and find the maxima through second derivative helps me finding the max height ball can reach which is helps me to make accurate predictions."
   ]
  },
  {
   "cell_type": "markdown",
   "id": "082d0f37",
   "metadata": {},
   "source": [
    "### Definite Integrals:-"
   ]
  },
  {
   "cell_type": "code",
   "execution_count": null,
   "id": "50f5e7fb",
   "metadata": {},
   "outputs": [],
   "source": [
    "\n",
    "f = x**3 - 6*x**2 + 9*x + 1\n",
    "\n",
    "# Finding the integral.\n",
    "definite_int = sp.integrate(f, (x, 0, 2))\n",
    "\n",
    "# Display the integral expression and its value\n",
    "display(sp.Eq(sp.Integral(f, (x, 0, 2)), definite_int))\n",
    "print(\"Numeric value of the area:\", float(definite_int))\n"
   ]
  },
  {
   "cell_type": "markdown",
   "id": "64a7e918",
   "metadata": {},
   "source": [
    "### Analysis\n",
    "We Calculated the definite integral which essentially means net area under the curve "
   ]
  },
  {
   "cell_type": "markdown",
   "id": "b61829e7",
   "metadata": {},
   "source": [
    "## Summary For This Project:-\n",
    "This projects demonstrates my understanding of the core knowledge for MAS164 unit. In this project I tried my level best to integrate the mathematical concepts with programming and tried to demonstrate the practicality for the topics in real world scenario.This project and the other one along with the  introductory modules of the coursera course shows my basic understanding of the unit MAS164 and my commimtment to work hard and excel in the course if I get the approval."
   ]
  }
 ],
 "metadata": {
  "kernelspec": {
   "display_name": "Python 3",
   "language": "python",
   "name": "python3"
  },
  "language_info": {
   "codemirror_mode": {
    "name": "ipython",
    "version": 3
   },
   "file_extension": ".py",
   "mimetype": "text/x-python",
   "name": "python",
   "nbconvert_exporter": "python",
   "pygments_lexer": "ipython3",
   "version": "3.9.6"
  }
 },
 "nbformat": 4,
 "nbformat_minor": 5
}
